{
 "cells": [
  {
   "cell_type": "code",
   "execution_count": 4,
   "metadata": {},
   "outputs": [],
   "source": [
    "import csv\n",
    "import numpy as np"
   ]
  },
  {
   "cell_type": "code",
   "execution_count": 5,
   "metadata": {},
   "outputs": [],
   "source": [
    "def load_data (path_data):\n",
    "    rows = []\n",
    "#     with open('Plate_license_train.csv', 'r') as csv_file:\n",
    "    with open(path_data, 'r') as csv_file:\n",
    "        result = csv.reader(csv_file)\n",
    "        # đọc từng dòng của file và thêm vào list rows, mỗi phần tử của list là một dòng\n",
    "        for row in result:\n",
    "            rows.append(row)\n",
    "    data = []\n",
    "    label = []\n",
    "    \n",
    "    for letter in rows :\n",
    "        x = np.array([int(j) for j in letter[1:]])\n",
    "        x = x.reshape(28, 28)\n",
    "        \n",
    "        data.append(x)\n",
    "        label.append(int(letter[0]))\n",
    "            \n",
    "    return data, label"
   ]
  },
  {
   "cell_type": "code",
   "execution_count": 6,
   "metadata": {},
   "outputs": [],
   "source": [
    "path_train = 'Plate_license_train.csv'\n",
    "path_test = 'Plate_license_test.csv'\n",
    "path_val = 'Plate_license_val.csv'\n",
    "\n",
    "\n",
    "data_train = []\n",
    "label_train = []\n",
    "\n",
    "data_test = []\n",
    "label_test = []\n",
    "\n",
    "data_val = []\n",
    "label_val = []\n",
    "\n",
    "data_train, label_train = load_data(path_train)\n",
    "data_test, label_test = load_data(path_test)\n",
    "data_val, label_val = load_data(path_val)\n"
   ]
  },
  {
   "cell_type": "code",
   "execution_count": null,
   "metadata": {},
   "outputs": [],
   "source": []
  }
 ],
 "metadata": {
  "kernelspec": {
   "display_name": "Python 3",
   "language": "python",
   "name": "python3"
  },
  "language_info": {
   "codemirror_mode": {
    "name": "ipython",
    "version": 3
   },
   "file_extension": ".py",
   "mimetype": "text/x-python",
   "name": "python",
   "nbconvert_exporter": "python",
   "pygments_lexer": "ipython3",
   "version": "3.6.8"
  }
 },
 "nbformat": 4,
 "nbformat_minor": 2
}
